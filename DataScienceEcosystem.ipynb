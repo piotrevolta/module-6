{
 "cells": [
  {
   "cell_type": "markdown",
   "id": "69c28c5b-709c-4b6c-9e68-8f48306be368",
   "metadata": {},
   "source": [
    "# Data Science Tools and Ecosystem"
   ]
  },
  {
   "cell_type": "markdown",
   "id": "1a4e07cf-b265-48d3-9ce1-7fd8deb25204",
   "metadata": {},
   "source": [
    "In this notebook, Data Science Tools and Ecosystem are summarized."
   ]
  },
  {
   "cell_type": "markdown",
   "id": "2975b0a3-a926-459e-afba-94946dfed0e9",
   "metadata": {},
   "source": [
    "**Objectives:**"
   ]
  },
  {
   "cell_type": "markdown",
   "id": "e4ce7362-c592-4d61-97aa-2006a3aa1031",
   "metadata": {},
   "source": [
    "- List popular languages for Data Science\n",
    "- Commonly used libraries used by Data Scientists\n",
    "- Examples of evaluating arithmetic expressions in Python"
   ]
  },
  {
   "cell_type": "markdown",
   "id": "0176a71e-2324-4b36-b006-48d3488b4827",
   "metadata": {},
   "source": [
    "## Author\n",
    "Piotr Repeta"
   ]
  },
  {
   "cell_type": "code",
   "execution_count": null,
   "id": "c93c0815-cf05-4972-ad8e-52ab3a9096f4",
   "metadata": {},
   "outputs": [],
   "source": []
  },
  {
   "cell_type": "markdown",
   "id": "edf2f162-b19e-40a3-b81d-eb410adc87f7",
   "metadata": {},
   "source": [
    "Some of the popular languages that Data Scientists use are:"
   ]
  },
  {
   "cell_type": "markdown",
   "id": "a9ff2264-0a03-4b27-815b-3837ea0a0c15",
   "metadata": {},
   "source": [
    "1. Python\n",
    "2. R\n",
    "3. Julia\n",
    "4. Java"
   ]
  },
  {
   "cell_type": "markdown",
   "id": "a45943f3-c7b9-43ab-8f49-30452bbf973d",
   "metadata": {},
   "source": [
    "Some of the commonly used libraries used by Data Scientists include:"
   ]
  },
  {
   "cell_type": "markdown",
   "id": "2023d18e-3f61-4405-991b-d724ee5353be",
   "metadata": {},
   "source": [
    "1. Panda\n",
    "2. NumPy\n",
    "3. SciPy"
   ]
  },
  {
   "cell_type": "markdown",
   "id": "e0cad685-3a40-493a-bc5b-f2b72b010321",
   "metadata": {},
   "source": [
    " | Data Science Tools |\n",
    " | ------------------ |\n",
    " | JupyterLab |\n",
    "| JupyterLite |\n",
    "| VS Code |\n",
    "| Google Colaboratory |\n",
    "\n"
   ]
  },
  {
   "cell_type": "markdown",
   "id": "6c8f40f4-8098-4883-99fc-b25f84c4bb9d",
   "metadata": {},
   "source": [
    "### Below are a few examples of evaluating arithmetic expressions in Python"
   ]
  },
  {
   "cell_type": "markdown",
   "id": "f3081676-55d4-44af-8bad-f7abbb833ea3",
   "metadata": {},
   "source": [
    "This a simple arithmetic expression to mutiply then add integers"
   ]
  },
  {
   "cell_type": "code",
   "execution_count": 23,
   "id": "636a2e5e-3152-44f4-bad7-cf5ad8cca15f",
   "metadata": {},
   "outputs": [
    {
     "data": {
      "text/plain": [
       "17"
      ]
     },
     "execution_count": 23,
     "metadata": {},
     "output_type": "execute_result"
    }
   ],
   "source": [
    "(3*4)+5"
   ]
  },
  {
   "cell_type": "markdown",
   "id": "18049dbf-1839-4384-a105-9659a7e7e855",
   "metadata": {},
   "source": [
    "This will convert 200 minutes to hours by diving by 60"
   ]
  },
  {
   "cell_type": "code",
   "execution_count": 27,
   "id": "b3defd53-529a-4aed-9bf3-4113485578bb",
   "metadata": {},
   "outputs": [
    {
     "data": {
      "text/plain": [
       "3.3333333333333335"
      ]
     },
     "execution_count": 27,
     "metadata": {},
     "output_type": "execute_result"
    }
   ],
   "source": [
    "200/60"
   ]
  },
  {
   "cell_type": "code",
   "execution_count": null,
   "id": "b3eb46da-1b34-49cb-b06e-04719ad1091a",
   "metadata": {},
   "outputs": [],
   "source": []
  }
 ],
 "metadata": {
  "kernelspec": {
   "display_name": "anaconda-ai-2024.04-py310",
   "language": "python",
   "name": "conda-env-anaconda-ai-2024.04-py310-py"
  },
  "language_info": {
   "codemirror_mode": {
    "name": "ipython",
    "version": 3
   },
   "file_extension": ".py",
   "mimetype": "text/x-python",
   "name": "python",
   "nbconvert_exporter": "python",
   "pygments_lexer": "ipython3",
   "version": "3.10.13"
  }
 },
 "nbformat": 4,
 "nbformat_minor": 5
}
